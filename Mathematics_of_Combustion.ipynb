{
  "cells": [
    {
      "cell_type": "markdown",
      "metadata": {
        "id": "view-in-github",
        "colab_type": "text"
      },
      "source": [
        "<a href=\"https://colab.research.google.com/github/Etsija/Stationeers-notes-and-calculations/blob/main/Mathematics_of_Combustion.ipynb\" target=\"_parent\"><img src=\"https://colab.research.google.com/assets/colab-badge.svg\" alt=\"Open In Colab\"/></a>"
      ]
    },
    {
      "cell_type": "markdown",
      "source": [
        "# Fuel Combustion in Stationeers"
      ],
      "metadata": {
        "id": "TnarYUMlYXhb"
      }
    },
    {
      "cell_type": "markdown",
      "source": [
        "## Credits"
      ],
      "metadata": {
        "id": "_MoHX2RjNGt-"
      }
    },
    {
      "cell_type": "markdown",
      "source": [
        "Credits of this work belong to Risu, a Stationeers Discord member and Community Developer, who made the original Excel sheet that described the combustion process for one atmospherics tick."
      ],
      "metadata": {
        "id": "p0KGCXtHNLIT"
      }
    },
    {
      "cell_type": "markdown",
      "source": [
        "## Description of combustion"
      ],
      "metadata": {
        "id": "EnCwQ5KN01NR"
      }
    },
    {
      "cell_type": "markdown",
      "source": [
        "Fuel combustion needs volatiles and an oxidizer - in the game, either O2 or N2O/nitrous.  For volatiles and O2, the gas mix needs to be at 300 °C before combustion happens. For volatiles and N2O, the corresponding combustion temperature is 50 °C. There is no mol limit for the combustion to happen anymore.\n",
        "\n",
        "Let's describe the combustion in an insulated pipe, where the combustion is governed by the amount of combustible gases, temperature and combustion rate (which is dependent of the temperature), and there is no heat loss due to convection or radiation.\n",
        "\n",
        "Chemical/magical reactions for combustion are:\n",
        "\n",
        "> $2H_2 + O_2 \\rightarrow 6CO_2 + 3X$ + energy\n",
        "\n",
        "> $H_2 + N_2O \\rightarrow 2CO_2 + 2N_2$ + energy\n",
        "\n",
        "Why \"magical\"? Because in an actual chemical process, elements cannot be created or destroyed. So this is more like game mechanics, rather than real life chemistry.\n",
        "\n",
        "For each atmospheric tick, this happens:\n",
        "1. Part of the volatiles and oxidizers combust, raising the temperature of the gas. This part is governed by the combustion rate, which decreases with increasing gas temperature. Note that there are devices like the Gas Fuel Generator, for which the combustion rate = 1 ie. they combust all of the input gas in one tick.\n",
        "2. The combusted gases are removed from the gas composition.\n",
        "3. Combustion resultant gases are added to the gas composition.\n",
        "\n",
        "Using the combustion rate leads to an almost asymptotic process, where less and less combustible gases are left to raise the resultant gas temperature, so it eventually reaches an upper limit but in an asymptotic way."
      ],
      "metadata": {
        "id": "dqPQj0yxwlsi"
      }
    },
    {
      "cell_type": "markdown",
      "source": [
        "## Mathematics of combustion"
      ],
      "metadata": {
        "id": "VzsjKOqX08Kv"
      }
    },
    {
      "cell_type": "markdown",
      "source": [
        "Initial condition:\n",
        "\n",
        "> $T_{fuel} =$ gas temperature [K]\n",
        "\n",
        "> $n_{H_2} =$ amount of volatiles [mol]\n",
        "\n",
        "> $n_{O_2} =$ amount of oxygen [mol]\n",
        "\n",
        "> $n_{N_2O} =$ amount of nitrous oxite [mol]\n",
        "\n",
        "> $n_{X} =$ amount of X [mol]\n",
        "\n",
        "> $n_{CO_2} =$ amount of carbon dioxide [mol]\n",
        "\n",
        "> $n_{N_2} =$ amount of nitrogen [mol]"
      ],
      "metadata": {
        "id": "PqkeCg_n1Lb5"
      }
    },
    {
      "cell_type": "markdown",
      "source": [
        "For each atmospheric tick, we calculate:"
      ],
      "metadata": {
        "id": "G9LM8UrXAqYy"
      }
    },
    {
      "cell_type": "markdown",
      "source": [
        "Total heat capacity of the gas:\n",
        "\n",
        "> $C_{start} = \\sum_{i}{n_i C_i} = n_{H_2}C_{H_2} + n_{O_2}C_{O_2} + n_{N_2O}C_{N_2O} + n_{X} C_{X} + n_{CO_2} C_{CO_2} + n_{N_2} C_{N_2},$\n",
        "\n",
        "> $n_i$ = quantity of the gas in [mol]\n",
        "\n",
        "> $C_i$ = heat capacity of the gas [J/mol K]"
      ],
      "metadata": {
        "id": "IJ0bIjU5Zl1l"
      }
    },
    {
      "cell_type": "markdown",
      "source": [
        "Total energy [J] of the gas in the start of the atmospheric tick:\n",
        "\n",
        "> $E_{start} = T_{start} C_{start}$"
      ],
      "metadata": {
        "id": "IwWkhJ0Dakvc"
      }
    },
    {
      "cell_type": "markdown",
      "source": [
        "Let's calculate the amount of volatiles and oxidizers taken in to combustion process.\n",
        "\n",
        "> Volatiles needed for combustion of all gas left:\n",
        "\n",
        "> $n_{H_2, needed} = 2n_{O_2} + n_{N_2O}$\n",
        "\n",
        "> Ratio of different oxites in the gas:\n",
        "\n",
        "> $r_{O_2} = \\frac{2n_{O_2}}{n_{H_2,needed}}$\n",
        "\n",
        "> $r_{N_2O} = \\frac{n_{N_2O}}{n_{H_2,needed}}$\n",
        "\n",
        "> Gases taken to combustion process:\n",
        "\n",
        "> $n_{H_2, used} = \\min(n_{H_2}, n_{H_2,needed})$\n",
        "\n",
        "> $n_{O_2, used} = \\frac{1}{2} r_{O_2} n_{H_2, used} = n_{O_2} \\frac {n_{H_2, used}}{n_{H_2, needed}}$\n",
        "\n",
        "> $n_{N_2O, used} = r_{N_2O} n_{H_2, used} = n_{N_2O} \\frac{n_{H_2, used}}{n_{H_2, needed}}$"
      ],
      "metadata": {
        "id": "R8FP4HXzbOOf"
      }
    },
    {
      "cell_type": "markdown",
      "source": [
        "Let the combustion rate be $R_C = [0, 1]$. The amount of gases removed in the combustion can be calculated by calculating amount of volatiles removed in both combustion processes, and amount of oxidizers removed:\n",
        "\n",
        "> $n_{H_2(O_2), rem} = R_C r_{O_2} n_{H_2, used} = 2R_C n_{O_2} \\frac{n_{H_2, used}}{n_{H_2, needed}}$\n",
        "\n",
        "> $n_{H_2(N_2O), rem} = R_C r_{N_2O} n_{H_2, used} = R_C n_{N_2O} \\frac{n_{H_2, used}}{n_{H_2, needed}}$\n",
        "\n",
        "> $n_{O_2, rem} = R_C n_{O_2, used} = R_C n_{O_2} \\frac {n_{H_2, used}}{n_{H_2, needed}}$\n",
        "\n",
        "> $n_{N_2O, rem} = R_C n_{N_2O, used} = R_C n_{N_2O} \\frac {n_{H_2, used}}{n_{H_2, needed}}$"
      ],
      "metadata": {
        "id": "q1hGhojOfHny"
      }
    },
    {
      "cell_type": "markdown",
      "source": [
        "Composition of the combusted gas:\n",
        "\n",
        "> $n_{H_2, output} = n_{H_2} - (n_{H_2(O_2), rem} + n_{N_2O, rem})$\n",
        "\n",
        "> $n_{O_2, output} = n_{O_2} - n_{O_2, rem}$\n",
        "\n",
        "> $n_{N_2O, output} = n_{N_2O} - n_{N_2O, rem}$\n",
        "\n",
        "> $n_{X, output} = n_X + (n_{H_2(O_2), rem} + n_{O_2, rem})$\n",
        "\n",
        "> $n_{CO_2, output} = n_{CO_2} + (3n_{H_2(O_2), rem} + 2n_{N_2O, rem})$\n",
        "\n",
        "> $n_{N_2, output} = n_{N_2} + (n_{H_2(N_2O), rem} + n_{N_2O, rem})$"
      ],
      "metadata": {
        "id": "sLOi8ocyVSwz"
      }
    },
    {
      "cell_type": "markdown",
      "source": [
        "Let $E_{reaction}$ be the energy released in the combustion reaction.  Currently, in the game, this energy seems to be hardcoded as $E_{reaction} = 286000$ J. Properties of the combusted gas in the end of the atmospheric tick:\n",
        "\n",
        "> $E_{end} = E_{start} + E_{reaction} (n_{H_2(O_2), rem} + 2n_{N_2O, rem})$\n",
        "\n",
        "> $C_{end} = \\sum_{i}{n_i C_i}, $ $n_i$ are taken from 5\n",
        "\n",
        "> $T_{end} = \\frac{E_{end}}{C_{end}}$"
      ],
      "metadata": {
        "id": "TPKoq6ULFYkY"
      }
    },
    {
      "cell_type": "markdown",
      "source": [
        "Finally, we set parameters for the start of next atmospheric tick and iterate again:\n",
        "\n",
        "> $T_{fuel} \\rightarrow T_{end}$\n",
        "\n",
        "> $n_{H_2} \\rightarrow n_{H_2, output}$\n",
        "\n",
        "> $n_{O_2} \\rightarrow n_{O_2, output}$\n",
        "\n",
        "> $n_{N_2O} \\rightarrow n_{N_2O, output}$\n",
        "\n",
        "> $n_{X} \\rightarrow n_{X, output}$\n",
        "\n",
        "> $n_{CO_2} \\rightarrow n_{CO_2, output}$\n",
        "\n",
        "> $n_{N_2} \\rightarrow n_{N_2, output}$"
      ],
      "metadata": {
        "id": "cHyphJT5HwQU"
      }
    },
    {
      "cell_type": "markdown",
      "source": [
        "### Calculation of combustion rate $R_C$"
      ],
      "metadata": {
        "id": "B_2GOiq-8E4S"
      }
    },
    {
      "cell_type": "markdown",
      "source": [
        "If $r_{N_2O} \\ge 0.1$\n",
        "\n",
        "> $$R_C = 0.2 \\min(1, \\frac{1}{[0.0025(T_{fuel}+273.15)]^{1.01}} + 0.05)$$"
      ],
      "metadata": {
        "id": "gbOYDdRP9FPW"
      }
    },
    {
      "cell_type": "markdown",
      "source": [
        "Else\n",
        "\n",
        "> $$R_C = 0.2 \\min(1, \\frac{1}{[0.002(T_{fuel}+273.15)]^{1.6}} + 0.05)$$"
      ],
      "metadata": {
        "id": "owCAf9JF_Vrg"
      }
    },
    {
      "cell_type": "code",
      "source": [
        "import numpy as np\n",
        "import matplotlib.pyplot as plt\n",
        "\n",
        "T_fuel = np.linspace(-150, 8000, 1000)\n",
        "R_C1 = 1 / pow(0.0025 * (T_fuel + 273.15), 1.01) + 0.05\n",
        "R_C1 = np.clip(R_C1, 0, 1)\n",
        "R_C1 = 0.2*R_C1\n",
        "R_C2 = 1 / pow(0.002 * (T_fuel + 273.15), 1.6) + 0.05\n",
        "R_C2 = np.clip(R_C2, 0, 1)\n",
        "R_C2 = 0.2*R_C2\n",
        "fig, ax = plt.subplots()\n",
        "ax.plot(T_fuel, R_C1)\n",
        "ax.plot(T_fuel, R_C2)\n",
        "ax.axis([min(T_fuel)-100, max(T_fuel)+100, 0, 0.25])\n",
        "ax.grid(True)\n",
        "ax.set_title('Combustion Rate $R_C$')\n",
        "ax.set_xlabel('Gas temperature [K]')\n",
        "ax.set_ylabel('$R_C$')\n",
        "ax.legend(['$r_{N_2O} < 1$', '$r_{N_2O} >= 1$'])\n",
        "fig.show()"
      ],
      "metadata": {
        "colab": {
          "base_uri": "https://localhost:8080/",
          "height": 297
        },
        "id": "8AgCUxGt_8wg",
        "outputId": "cdb4ebd8-d973-44b3-ac4f-20af95cb5916"
      },
      "execution_count": null,
      "outputs": [
        {
          "output_type": "display_data",
          "data": {
            "text/plain": [
              "<Figure size 432x288 with 1 Axes>"
            ],
            "image/png": "[encoded data removed]"
          },
          "metadata": {
            "needs_background": "light"
          }
        }
      ]
    },
    {
      "cell_type": "markdown",
      "source": [
        "## Implementation with Python"
      ],
      "metadata": {
        "id": "Iv3V9SPHJeB9"
      }
    },
    {
      "cell_type": "markdown",
      "source": [
        "NOTE: Overriding the combustion rate hasn't been yet implemented."
      ],
      "metadata": {
        "id": "DOCrhlr4KWRR"
      }
    },
    {
      "cell_type": "code",
      "source": [
        "import numpy as np\n",
        "import matplotlib.pyplot as plt\n",
        "\n",
        "# Constants\n",
        "C_H2 = 20.4\n",
        "C_O2 = 21.1\n",
        "C_N2O = 23\n",
        "C_X = 24.8\n",
        "C_CO2 = 28.2\n",
        "C_N2 = 20.6\n",
        "E_reaction = 286000\n",
        "\n",
        "# Combustion rate calculation\n",
        "def CombustionRate(TfuelK, RatioN2O):\n",
        "  if RatioN2O >= 0.1:\n",
        "    tmpx = 0.0025\n",
        "    tmpy = 1.01\n",
        "  else:\n",
        "    tmpx = 0.002\n",
        "    tmpy = 1.6\n",
        "  x = tmpx * (TfuelK + 273.15)\n",
        "  y = 1 / pow(x, tmpy) + 0.05\n",
        "  rate = min(1, y) / 5\n",
        "  return rate\n",
        "\n",
        "# Initial state\n",
        "T_startC = -150\n",
        "n_H2 = 1\n",
        "n_O2 = 0\n",
        "n_N2O = 1\n",
        "n_X = 0\n",
        "n_CO2 = 0\n",
        "n_N2 = 0\n",
        "\n",
        "T_startK = T_startC + 273.15\n",
        "T_K = [T_startK]\n",
        "\n",
        "while True:\n",
        "\n",
        "  # 1. total heat capacity\n",
        "  C_start = C_H2*n_H2 + C_O2*n_O2 + C_N2O*n_N2O + C_X*n_X + C_CO2*n_CO2 + C_N2*n_N2\n",
        "  \n",
        "  # 2. Total energy of the gas\n",
        "  E_start = T_startK*C_start\n",
        "\n",
        "  # 3. Volatiles needed\n",
        "  n_H2needed = 2*n_O2 + n_N2O\n",
        "\n",
        "  # 4. Ratio of oxites\n",
        "  r_O2 = 2*n_O2 / n_H2needed\n",
        "  r_N2O = n_N2O / n_H2needed\n",
        "\n",
        "  # 5. Gases used\n",
        "  n_H2used = min(n_H2, n_H2needed)\n",
        "  n_O2used = 1/2*r_O2*n_H2used\n",
        "  n_N2Oused = r_N2O*n_H2used\n",
        "\n",
        "  # 6. Gases removed in combustion\n",
        "  R_C = CombustionRate(T_startK, r_N2O)\n",
        "  n_H2O2rem = R_C*n_H2used*r_O2\n",
        "  n_H2N2Orem = R_C*n_H2used*r_N2O\n",
        "  n_O2rem = R_C*n_O2used\n",
        "  n_N2Orem = R_C*n_N2Oused\n",
        "\n",
        "  # 7. Quantities left in the combusted gas\n",
        "  n_H2out = n_H2 - (n_H2O2rem+n_H2N2Orem)\n",
        "  n_O2out = n_O2 - n_O2rem\n",
        "  n_N2Oout = n_N2O - n_N2Orem\n",
        "  n_Xout = n_X + (n_H2O2rem+n_O2rem)\n",
        "  n_CO2out = n_CO2 + (3*n_H2O2rem+2*n_N2Orem)\n",
        "  n_N2out = n_N2 + (n_H2N2Orem+n_N2Orem)\n",
        "\n",
        "  # 8. Properties of the gas in the end of tick\n",
        "  E_end = E_start + E_reaction * (n_H2O2rem+2*n_N2Orem)\n",
        "  C_end = C_H2*n_H2out + C_O2*n_O2out + C_N2O*n_N2Oout + C_X*n_Xout + C_CO2*n_CO2out + C_N2*n_N2out\n",
        "  T_endK = E_end/C_end\n",
        "\n",
        "  # 9. Break condition and set for the next tick\n",
        "  if (T_endK-T_startK) < 0.001:\n",
        "    break\n",
        "  else:\n",
        "    T_K.append(T_endK)\n",
        "    T_startK = T_endK\n",
        "    n_H2 = n_H2out\n",
        "    n_O2 = n_O2out\n",
        "    n_N2O = n_N2Oout\n",
        "    n_X = n_Xout\n",
        "    n_CO2 = n_CO2out\n",
        "    n_N2 = n_N2out\n",
        "\n",
        "T_C = T_K\n",
        "T_C = [T_K-273.15 for T_K in T_C]"
      ],
      "metadata": {
        "id": "NaKqteh6Jovc"
      },
      "execution_count": null,
      "outputs": []
    },
    {
      "cell_type": "code",
      "source": [
        "fig, ax = plt.subplots()\n",
        "ax.plot(T_C)\n",
        "ax.axis([-5, len(T_C)+5, min(T_C)-100, max(T_C)+100])\n",
        "ax.grid(True)\n",
        "ax.set_title('Combustion, 2H2+O2, calculated combustion rate')\n",
        "ax.set_xlabel('Atmospheric tick')\n",
        "ax.set_ylabel('Temp of combusted gas [C]')\n",
        "fig.show()"
      ],
      "metadata": {
        "colab": {
          "base_uri": "https://localhost:8080/",
          "height": 295
        },
        "id": "fGmh4syH5JWS",
        "outputId": "96045ec7-5876-46c4-f9c7-444cd213be79"
      },
      "execution_count": null,
      "outputs": [
        {
          "output_type": "display_data",
          "data": {
            "text/plain": [
              "<Figure size 432x288 with 1 Axes>"
            ],
            "image/png": "[encoded data removed]"
          },
          "metadata": {
            "needs_background": "light"
          }
        }
      ]
    },
    {
      "cell_type": "code",
      "source": [
        "fig, ax = plt.subplots()\n",
        "ax.plot(T_C)\n",
        "ax.axis([-5, len(T_C)+5, min(T_C)-100, max(T_C)+100])\n",
        "ax.grid(True)\n",
        "ax.set_title('Combustion, H2+N2O, calculated combustion rate')\n",
        "ax.set_xlabel('Atmospheric tick')\n",
        "ax.set_ylabel('Temp of combusted gas [C]')\n",
        "fig.show()"
      ],
      "metadata": {
        "colab": {
          "base_uri": "https://localhost:8080/",
          "height": 295
        },
        "id": "guZjIUvc7BuE",
        "outputId": "d9280d15-3cf5-4337-9b4a-8f43fa7960c2"
      },
      "execution_count": null,
      "outputs": [
        {
          "output_type": "display_data",
          "data": {
            "text/plain": [
              "<Figure size 432x288 with 1 Axes>"
            ],
            "image/png": "[encoded data removed]"
          },
          "metadata": {
            "needs_background": "light"
          }
        }
      ]
    }
  ],
  "metadata": {
    "colab": {
      "provenance": [],
      "toc_visible": true,
      "collapsed_sections": [],
      "include_colab_link": true
    },
    "kernelspec": {
      "display_name": "Python 3",
      "language": "python",
      "name": "python3"
    },
    "language_info": {
      "codemirror_mode": {
        "name": "ipython",
        "version": 3
      },
      "file_extension": ".py",
      "mimetype": "text/x-python",
      "name": "python",
      "nbconvert_exporter": "python",
      "pygments_lexer": "ipython3",
      "version": "3.7.6"
    }
  },
  "nbformat": 4,
  "nbformat_minor": 0
}